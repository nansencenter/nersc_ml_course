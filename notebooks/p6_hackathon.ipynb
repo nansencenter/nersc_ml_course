{
 "cells": [
  {
   "cell_type": "code",
   "execution_count": 1,
   "metadata": {},
   "outputs": [],
   "source": [
    "import numpy as np"
   ]
  },
  {
   "cell_type": "code",
   "execution_count": 2,
   "metadata": {},
   "outputs": [],
   "source": [
    "def gen_sublooks(dataset, slide, size):\n",
    "    dataset = np.array([dataset['chl'], dataset['label']])\n",
    "    sublooks = []\n",
    "    i = 0\n",
    "    while True:\n",
    "        j = 0\n",
    "        while True:\n",
    "            sublook = dataset[:, i:i+size, j:j+size]\n",
    "            sublooks.append(sublook)\n",
    "            j += slide\n",
    "            if j + size  > dataset.shape[2]:\n",
    "                break\n",
    "        i += slide\n",
    "        if i + size  > dataset.shape[1]:\n",
    "            break\n",
    "    return sublooks        \n"
   ]
  },
  {
   "cell_type": "code",
   "execution_count": null,
   "metadata": {},
   "outputs": [],
   "source": [
    "dataset = np.load('S3A_OL_2_WFR_20200620T103116_CHL_LABELS.npz')\n",
    "sublooks = gen_sublooks(dataset, slide=100, size=400)"
   ]
  }
 ],
 "metadata": {
  "interpreter": {
   "hash": "3d31dfa1f83775d0b5c27a51eba0e30915ed6364293d7c184981409cd58372ea"
  },
  "kernelspec": {
   "display_name": "Python 3.9.6 64-bit ('dev': conda)",
   "language": "python",
   "name": "python3"
  },
  "language_info": {
   "codemirror_mode": {
    "name": "ipython",
    "version": 3
   },
   "file_extension": ".py",
   "mimetype": "text/x-python",
   "name": "python",
   "nbconvert_exporter": "python",
   "pygments_lexer": "ipython3",
   "version": "3.9.7"
  },
  "orig_nbformat": 4
 },
 "nbformat": 4,
 "nbformat_minor": 2
}
