{
 "cells": [
  {
   "cell_type": "code",
   "execution_count": null,
   "metadata": {},
   "outputs": [],
   "source": [
    "import matplotlib.pyplot as plt\n",
    "from netCDF4 import Dataset\n",
    "import numpy as np\n",
    "\n",
    "from sklearn.ensemble import RandomForestClassifier\n",
    "from sklearn.model_selection import train_test_split\n",
    "from sklearn.metrics import accuracy_score, f1_score\n",
    "from sklearn.model_selection import ParameterGrid"
   ]
  },
  {
   "cell_type": "markdown",
   "metadata": {},
   "source": [
    "# Download file with AMSR2 and SIT data"
   ]
  },
  {
   "cell_type": "code",
   "execution_count": null,
   "metadata": {},
   "outputs": [],
   "source": [
    "!wget ftp://ftp.nersc.no/pub/ml_course/amsr2_201501311200.npz"
   ]
  },
  {
   "cell_type": "markdown",
   "metadata": {},
   "source": [
    "# Load data into notebook\n",
    "\n",
    "### Features\n",
    "\n",
    "AMSR2 has 14 bands: observations of surface at 7 passive microwave frequencies in two polarizations.\n",
    "\n",
    "### Targets\n",
    "\n",
    "Sea ice type shows \"age\" of ice. 1 - open water, 2 - first-year ice, 3 - multi-year ice (0 - invalid, 4 - uncertain).\n",
    "\n",
    "### Data is loaded into a dictionary `d`\n",
    "\n",
    "The data is stored as a collection of 2D arrays with names 'h06', 'v06', etc. and 'sit'.\n"
   ]
  },
  {
   "cell_type": "code",
   "execution_count": null,
   "metadata": {},
   "outputs": [],
   "source": [
    "# load data into dictionary\n",
    "d = dict(**np.load('amsr2_201501311200.npz'))\n",
    "# names of bands in the dictionary:\n",
    "print(d.keys())\n",
    "# size of 2D arrays\n",
    "print(d['h06'].shape, d['sit'].shape)"
   ]
  },
  {
   "cell_type": "code",
   "execution_count": null,
   "metadata": {},
   "outputs": [],
   "source": [
    "# select random bands to show maps:\n",
    "b0 = 'sit' # sea ice type\n",
    "b1 = 'h06' # Brightness temperature at 6  GHz at horizontal polarization\n",
    "b2 = 'v06' # Brightness temperature at 6  GHz at vertical polarization\n",
    "b3 = 'v89' # Brightness temperature at 89 GHz at vertical polarization\n",
    "\n",
    "# plot maps of selected bands\n",
    "fig, ax = plt.subplots(1,4, figsize=(20,5))\n",
    "for i,b in enumerate([b0, b1, b2, b3]):\n",
    "    img = ax[i].imshow(d[b], cmap='jet', interpolation='nearest')\n",
    "    plt.colorbar(img, ax=ax[i], shrink=0.3)\n",
    "    ax[i].set_title(b)\n",
    "plt.show()"
   ]
  },
  {
   "cell_type": "markdown",
   "metadata": {},
   "source": [
    "# Convert 2D maps into 1D vectors and compare\n",
    "\n",
    "### Boolean indexing\n",
    "\n",
    "`mask` is a 2D boolean array with True where data is valid (0 < sit < 4) and False where data is invalid (land and uncertain pixels)\n",
    "\n",
    "`d['sit'][mask]` is a 1D vector with sea ice type for valid pixels only\n",
    "\n",
    "`d['h06'][mask]` is a 1D vector with AMSR2 measurements in valid pixels\n",
    "\n",
    "### Comparison of bands\n",
    "\n",
    "Some bands are very correlated (e.g. 'h06' and 'h07') and it is very difficult to distinguish ice types.\n",
    "Other bands are less correlated(e.g. 'h06' and 'v89'). The scatter plots compare values of the pixels in different bands, colored by ice type. "
   ]
  },
  {
   "cell_type": "code",
   "execution_count": null,
   "metadata": {
    "scrolled": false
   },
   "outputs": [],
   "source": [
    "# 2D mask of valid pixels\n",
    "mask = (d['sit'] > 0) * (d['sit'] < 4)\n",
    "\n",
    "# 1D vectors of SIT and AMSR2 measurements at the selectef bands\n",
    "sit_masked = d['sit'][mask]\n",
    "d1_masked = d[b1][mask]\n",
    "d2_masked = d[b2][mask]\n",
    "d3_masked = d[b3][mask]\n",
    "\n",
    "# scatterplot\n",
    "fig, ax = plt.subplots(1,2, figsize=(10,5))\n",
    "ax[0].scatter(d1_masked, d2_masked, 10, sit_masked, cmap='jet', vmin=0, vmax=4)\n",
    "ax[0].set_xlabel(b1)\n",
    "ax[0].set_ylabel(b2)\n",
    "ax[1].scatter(d1_masked, d3_masked, 10, sit_masked, cmap='jet', vmin=0, vmax=4)\n",
    "ax[1].set_xlabel(b1)\n",
    "ax[1].set_ylabel(b3)\n",
    "plt.show()"
   ]
  },
  {
   "cell_type": "markdown",
   "metadata": {},
   "source": [
    "# Create training and testing datasets\n",
    "\n",
    "### Select bands\n",
    "\n",
    "Only two bands are selected to become features in our first classification. Just for illustration.\n",
    "\n",
    "### Create arrays of features and targets\n",
    "\n",
    "2D array of features (N_points x N_features) and 1D array of targets (N_points) are created from valid observations. (`mask` is used).\n",
    "\n",
    "### Split arrays of features and targets into to sub-samples for training and testing"
   ]
  },
  {
   "cell_type": "code",
   "execution_count": null,
   "metadata": {},
   "outputs": [],
   "source": [
    "# set bands that are used as features\n",
    "bands = ['h06', 'v06']\n",
    "# create 2D array of features\n",
    "X = np.array([d[b][mask] for b in bands]).T\n",
    "# create 1D vector of targets\n",
    "Y = d['sit'][mask]\n",
    "print(X.shape, Y.shape)\n",
    "# split features and targets by ratio 1/5\n",
    "X_train, X_test, Y_train, Y_test = train_test_split(X, Y, test_size=.2, random_state=41)\n",
    "print(X_train.shape, X_test.shape, Y_train.shape, Y_test.shape)"
   ]
  },
  {
   "cell_type": "markdown",
   "metadata": {},
   "source": [
    "# Perform Random Forest Training and Classification"
   ]
  },
  {
   "cell_type": "code",
   "execution_count": null,
   "metadata": {},
   "outputs": [],
   "source": [
    "# create a Random Forest classifier with default options\n",
    "clf = RandomForestClassifier()\n",
    "# train the classifier\n",
    "# Yes, MACHINE LEARNING is actually happening here:\n",
    "clf.fit(X_train,Y_train)\n",
    "# test the trained classifier on independent data\n",
    "Y_pred = clf.predict(X_test)\n",
    "# compute accuracy of the classifier\n",
    "print(accuracy_score(Y_test, Y_pred))"
   ]
  },
  {
   "cell_type": "markdown",
   "metadata": {},
   "source": [
    "# Grid search\n",
    "\n",
    "### 1. Why searching?\n",
    "The `RandomForestClassifier` has a lot of parameters (e.g., n_estimators, criterion, max_features, etc.).\n",
    "They have default values. You can see these values in the next cell.\n",
    "\n",
    "But what if these values are not optimal?\n",
    "\n",
    "Then we have to search for better parameters. For example in a \"Grid Search\".\n",
    "\n",
    "### 2. Define space for searching\n",
    "\n",
    "We can iterate on all parameters with all possible values but that will take infinite amount of time.\n",
    "We should choose which parameters we want to test and what are the realistic values to test.\n",
    "This is defined in `param_space` dictionary.\n",
    "\n",
    "Then a grid of all combinations of parameters is created (2 parameters, 2 values each ==> 2^3 = 4 combinations).\n",
    "\n",
    "### 3. Search\n",
    "\n",
    "Finally, we loop over these combinations, create, train and test the classifier and keep only the best one.\n"
   ]
  },
  {
   "cell_type": "code",
   "execution_count": null,
   "metadata": {},
   "outputs": [],
   "source": [
    "RandomForestClassifier?"
   ]
  },
  {
   "cell_type": "code",
   "execution_count": null,
   "metadata": {
    "scrolled": true
   },
   "outputs": [],
   "source": [
    "# define space for searching\n",
    "param_space = dict(\n",
    "    max_features = ['sqrt', 'log2'],\n",
    "    n_estimators = [2, 200],\n",
    ")\n",
    "\n",
    "# create grid with all combinations of parameters and values\n",
    "param_grid = ParameterGrid(param_space)\n",
    "\n",
    "# loop over the combinations\n",
    "best_score = 0\n",
    "best_clf = None\n",
    "for params in param_grid:\n",
    "    # create a sample classifier and train\n",
    "    clf = RandomForestClassifier(**params)\n",
    "    clf.fit(X_train,Y_train)\n",
    "    # use the classifier and evaluate accuracy\n",
    "    Y_pred = clf.predict(X_test)\n",
    "    score = accuracy_score(Y_test, Y_pred)\n",
    "    print(score, params)\n",
    "    # keep the best classifier\n",
    "    if score > best_score:\n",
    "        best_score = score\n",
    "        best_clf = clf\n",
    "print('Best score:', best_score)        "
   ]
  },
  {
   "cell_type": "code",
   "execution_count": null,
   "metadata": {},
   "outputs": [],
   "source": [
    "# use the best classifier and plot a \"Confusion matrix\"\n",
    "Y_best = best_clf.predict(X_test)\n",
    "plt.hist2d(Y_test, Y_best, 3)\n",
    "plt.xlabel('True')\n",
    "plt.ylabel('Predicted')\n",
    "plt.colorbar()\n",
    "plt.show()\n",
    "\n",
    "# which features are more important in classification\n",
    "print('Feature importance:', list(zip(*[bands, best_clf.feature_importances_])))"
   ]
  },
  {
   "cell_type": "markdown",
   "metadata": {},
   "source": [
    "# Reconstruct a map with ice type"
   ]
  },
  {
   "cell_type": "code",
   "execution_count": null,
   "metadata": {},
   "outputs": [],
   "source": [
    "# make a new mask that also includes 'uncertain pixels'.\n",
    "mask_new = d['sit'] > 0\n",
    "\n",
    "# create 2D array of features from all valid pixels\n",
    "X_new = np.array([d[b][mask_new] for b in bands]).T\n",
    "\n",
    "# use the best classifier to predict targets\n",
    "Y_new = best_clf.predict(X_new)\n",
    "\n",
    "# create an empty 2D array with sea ice type map\n",
    "sit_new = np.zeros_like(d['sit'])\n",
    "\n",
    "# insert the predicted targets into the valid pixels\n",
    "sit_new[mask_new] = Y_new\n",
    "\n",
    "# show maps of initial and new ice types\n",
    "fig, ax = plt.subplots(1,2, figsize=(14,7))\n",
    "ax[0].imshow(d['sit'], clim=[0,4], cmap='jet', interpolation='nearest')\n",
    "ax[1].imshow(sit_new, clim=[0,4], cmap='jet', interpolation='nearest')\n",
    "plt.show()"
   ]
  },
  {
   "cell_type": "markdown",
   "metadata": {},
   "source": [
    "# Tasks for individual work\n",
    "\n",
    "### 1. Improve classification accuracy\n",
    "\n",
    "Hints:    \n",
    "* Select other features\n",
    "* Extend search space by other parameters and other values\n",
    "\n",
    "### 2. Find the best features\n",
    "\n",
    "Hints:\n",
    "* Check feature importance and choose only few features\n",
    "\n",
    "### 3. Overfit\n",
    "\n",
    "Find such a configuration when you clearly overfit the model.\n",
    "\n",
    "Hints:\n",
    "* Split training / testing data differently\n",
    "* Test other parameters"
   ]
  },
  {
   "cell_type": "code",
   "execution_count": null,
   "metadata": {},
   "outputs": [],
   "source": []
  }
 ],
 "metadata": {
  "kernelspec": {
   "display_name": "Python 3",
   "language": "python",
   "name": "python3"
  },
  "language_info": {
   "codemirror_mode": {
    "name": "ipython",
    "version": 3
   },
   "file_extension": ".py",
   "mimetype": "text/x-python",
   "name": "python",
   "nbconvert_exporter": "python",
   "pygments_lexer": "ipython3",
   "version": "3.6.7"
  }
 },
 "nbformat": 4,
 "nbformat_minor": 4
}
